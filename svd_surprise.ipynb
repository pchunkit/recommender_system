{
 "cells": [
  {
   "cell_type": "code",
   "execution_count": 5,
   "id": "6d683645-002b-4bf9-9cb2-4224e7b72590",
   "metadata": {},
   "outputs": [
    {
     "name": "stdout",
     "output_type": "stream",
     "text": [
      "Evaluating RMSE, MAE of algorithm SVD on 5 split(s).\n",
      "\n",
      "                  Fold 1  Fold 2  Fold 3  Fold 4  Fold 5  Mean    Std     \n",
      "RMSE (testset)    0.9316  0.9354  0.9373  0.9407  0.9356  0.9361  0.0029  \n",
      "MAE (testset)     0.7325  0.7367  0.7396  0.7417  0.7373  0.7376  0.0031  \n",
      "Fit time          3.39    3.41    3.37    3.43    3.44    3.41    0.03    \n",
      "Test time         0.10    0.10    0.10    0.15    0.10    0.11    0.02    \n"
     ]
    },
    {
     "data": {
      "text/plain": [
       "{'test_rmse': array([0.93164693, 0.93543557, 0.93731756, 0.9406877 , 0.9355807 ]),\n",
       " 'test_mae': array([0.73247866, 0.73667078, 0.73964512, 0.74169921, 0.73726789]),\n",
       " 'fit_time': (3.3850018978118896,\n",
       "  3.412524700164795,\n",
       "  3.369997262954712,\n",
       "  3.4349968433380127,\n",
       "  3.435999870300293),\n",
       " 'test_time': (0.09900116920471191,\n",
       "  0.10100221633911133,\n",
       "  0.09900045394897461,\n",
       "  0.14802193641662598,\n",
       "  0.09900045394897461)}"
      ]
     },
     "execution_count": 5,
     "metadata": {},
     "output_type": "execute_result"
    }
   ],
   "source": [
    "from surprise import SVD, Reader, Dataset, accuracy\n",
    "from surprise.model_selection import cross_validate\n",
    "from sklearn.model_selection import train_test_split\n",
    "data = Dataset.load_builtin('ml-100k')\n",
    "reader = Reader(rating_scale=(0.5, 5))\n",
    "algo = SVD()\n",
    "cross_validate(algo, data, measures=['RMSE','MAE'], cv=5, verbose=True)"
   ]
  },
  {
   "cell_type": "code",
   "execution_count": null,
   "id": "2b1478f3-0961-4bb5-8433-7ea31ec86745",
   "metadata": {},
   "outputs": [],
   "source": []
  }
 ],
 "metadata": {
  "kernelspec": {
   "display_name": "Python 3 (ipykernel)",
   "language": "python",
   "name": "python3"
  },
  "language_info": {
   "codemirror_mode": {
    "name": "ipython",
    "version": 3
   },
   "file_extension": ".py",
   "mimetype": "text/x-python",
   "name": "python",
   "nbconvert_exporter": "python",
   "pygments_lexer": "ipython3",
   "version": "3.7.6"
  }
 },
 "nbformat": 4,
 "nbformat_minor": 5
}
